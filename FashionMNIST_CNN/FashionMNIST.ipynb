{
  "nbformat": 4,
  "nbformat_minor": 0,
  "metadata": {
    "colab": {
      "name": "GithubMNIST.ipynb",
      "provenance": []
    },
    "kernelspec": {
      "name": "python3",
      "display_name": "Python 3"
    },
    "language_info": {
      "name": "python"
    },
    "accelerator": "GPU"
  },
  "cells": [
    {
      "cell_type": "code",
      "source": [
        "# connect to drive\n",
        "from google.colab import drive\n",
        "drive.mount('/gdrive')\n",
        "%cd /gdrive"
      ],
      "metadata": {
        "colab": {
          "base_uri": "https://localhost:8080/"
        },
        "id": "yrqtHa3b71SM",
        "outputId": "30c8b024-421b-4ea9-d929-0a9604ef5440"
      },
      "execution_count": 163,
      "outputs": [
        {
          "output_type": "stream",
          "name": "stdout",
          "text": [
            "Drive already mounted at /gdrive; to attempt to forcibly remount, call drive.mount(\"/gdrive\", force_remount=True).\n",
            "/gdrive\n"
          ]
        }
      ]
    },
    {
      "cell_type": "code",
      "execution_count": 164,
      "metadata": {
        "id": "7s4JzdBc7uGw"
      },
      "outputs": [],
      "source": [
        "# import libraries and dataset\n",
        "from tensorflow import keras\n",
        "import matplotlib.pyplot as plt\n",
        "from keras.datasets import fashion_mnist\n",
        "from keras.layers import Conv2D, Dense, Dropout, Flatten, MaxPooling2D\n",
        "from sklearn.metrics import classification_report\n",
        "import numpy as np\n",
        "import random \n",
        "\n",
        "(X_train, y_train), (X_test, y_test) = fashion_mnist.load_data()\n"
      ]
    },
    {
      "cell_type": "code",
      "source": [
        "class_names = ['T-shirt/top', 'Trouser', 'Pullover', 'Dress', 'Coat',\\\n",
        "               'Sandal', 'Shirt', 'Sneaker', 'Bag', 'Ankle boot']"
      ],
      "metadata": {
        "id": "JlVDGtqsTDE2"
      },
      "execution_count": 165,
      "outputs": []
    },
    {
      "cell_type": "code",
      "source": [
        "# display some images\n",
        "plt.figure(figsize=(10, 6))\n",
        "\n",
        "for i in range(0, 10):\n",
        "  number = random.randint(0, 60000)\n",
        "  plt.subplot(2, 5, i+1)\n",
        "  plt.title(class_names[y_train[number]])\n",
        "  plt.imshow(X_train[number], cmap = 'gray')\n",
        "plt.show()"
      ],
      "metadata": {
        "colab": {
          "base_uri": "https://localhost:8080/",
          "height": 338
        },
        "id": "peALv6xnQPB7",
        "outputId": "359e8164-5295-4746-e599-c3d6b25aa853"
      },
      "execution_count": 166,
      "outputs": [
        {
          "output_type": "display_data",
          "data": {
            "text/plain": [
              "<Figure size 720x432 with 10 Axes>"
            ],
            "image/png": "[encoded data removed]"
          },
          "metadata": {
            "needs_background": "light"
          }
        }
      ]
    },
    {
      "cell_type": "code",
      "source": [
        "# check image shape\n",
        "print(\"X_train shape: \", X_train.shape)\n",
        "print(\"X_test shape: \", X_test.shape)\n",
        "print(\"y_train shape: \", y_train.shape)\n",
        "print(\"y_test shape: \", y_test.shape)"
      ],
      "metadata": {
        "colab": {
          "base_uri": "https://localhost:8080/"
        },
        "id": "33LSghdtPYlc",
        "outputId": "80a9aae7-3ec2-435e-82ff-a3357d8a3bd8"
      },
      "execution_count": 167,
      "outputs": [
        {
          "output_type": "stream",
          "name": "stdout",
          "text": [
            "X_train shape:  (60000, 28, 28)\n",
            "X_test shape:  (10000, 28, 28)\n",
            "y_train shape:  (60000,)\n",
            "y_test shape:  (10000,)\n"
          ]
        }
      ]
    },
    {
      "cell_type": "code",
      "source": [
        "# normalize the data\n",
        "X_trainN = X_train.astype('float32') / 255\n",
        "X_testN = X_test.astype('float32') /255\n",
        "\n",
        "# reshape the data for the deep learning model\n",
        "X_trainN = X_trainN.reshape((X_trainN.shape[0], 28, 28, 1))\n",
        "X_testN = X_testN.reshape((X_testN.shape[0], 28, 28, 1))"
      ],
      "metadata": {
        "id": "OacWrWgGQL5j"
      },
      "execution_count": 168,
      "outputs": []
    },
    {
      "cell_type": "code",
      "source": [
        "print(X_testN.shape)\n",
        "print(X_trainN.shape)"
      ],
      "metadata": {
        "colab": {
          "base_uri": "https://localhost:8080/"
        },
        "id": "BK74O89TYFJA",
        "outputId": "c1025735-ed56-4544-bd1a-b56d7dc5b477"
      },
      "execution_count": 169,
      "outputs": [
        {
          "output_type": "stream",
          "name": "stdout",
          "text": [
            "(10000, 28, 28, 1)\n",
            "(60000, 28, 28, 1)\n"
          ]
        }
      ]
    },
    {
      "cell_type": "code",
      "source": [
        "# one hot encode target values\n",
        "y_trainC = keras.utils.to_categorical(y_train)\n",
        "y_testC = keras.utils.to_categorical(y_test)"
      ],
      "metadata": {
        "id": "mWCyD-U0Yha4"
      },
      "execution_count": 170,
      "outputs": []
    },
    {
      "cell_type": "code",
      "source": [
        "# define model\n",
        "\n",
        "model = keras.Sequential()\n",
        "\n",
        "model.add(Conv2D(32, (3, 3), padding = 'same', activation = 'relu', input_shape = (28, 28, 1)))\n",
        "model.add(MaxPooling2D(2, 2))\n",
        "model.add(Conv2D(64, (3, 3), padding = 'same', activation = 'relu'))\n",
        "model.add(MaxPooling2D(2, 2))\n",
        "model.add(Dropout(0.25))\n",
        "model.add(Conv2D(128, (3, 3), padding = 'same', activation = 'relu'))\n",
        "model.add(MaxPooling2D(2, 2))\n",
        "model.add(Dropout(0.25))\n",
        "model.add(Flatten())\n",
        "\n",
        "\n",
        "model.add(Dense(512, activation = 'relu'))\n",
        "model.add(Dense(256, activation = 'relu'))\n",
        "model.add(Dense(10, activation = 'softmax'))\n"
      ],
      "metadata": {
        "id": "ewdEzq72Y-vO"
      },
      "execution_count": 171,
      "outputs": []
    },
    {
      "cell_type": "code",
      "source": [
        "# compile model\n",
        "model.compile(optimizer= 'adam', loss = 'categorical_crossentropy', metrics = ['accuracy'])"
      ],
      "metadata": {
        "id": "z-pUHJfQnhZb"
      },
      "execution_count": 172,
      "outputs": []
    },
    {
      "cell_type": "code",
      "source": [
        "# fit model\n",
        "history = model.fit(X_trainN, y_trainC, batch_size = 4096, epochs=75, verbose = 2, validation_split = 0.25)"
      ],
      "metadata": {
        "colab": {
          "base_uri": "https://localhost:8080/"
        },
        "id": "HRciybfxoffA",
        "outputId": "fa7ad966-1e1d-4ce8-931d-54cc98e037c3"
      },
      "execution_count": 173,
      "outputs": [
        {
          "output_type": "stream",
          "name": "stdout",
          "text": [
            "Epoch 1/75\n",
            "11/11 - 4s - loss: 1.6771 - accuracy: 0.4157 - val_loss: 1.0565 - val_accuracy: 0.5716 - 4s/epoch - 322ms/step\n",
            "Epoch 2/75\n",
            "11/11 - 3s - loss: 1.0076 - accuracy: 0.6083 - val_loss: 0.8368 - val_accuracy: 0.6851 - 3s/epoch - 233ms/step\n",
            "Epoch 3/75\n",
            "11/11 - 3s - loss: 0.7786 - accuracy: 0.7120 - val_loss: 0.6727 - val_accuracy: 0.7459 - 3s/epoch - 235ms/step\n",
            "Epoch 4/75\n",
            "11/11 - 3s - loss: 0.6711 - accuracy: 0.7481 - val_loss: 0.6058 - val_accuracy: 0.7731 - 3s/epoch - 233ms/step\n",
            "Epoch 5/75\n",
            "11/11 - 3s - loss: 0.6047 - accuracy: 0.7734 - val_loss: 0.5575 - val_accuracy: 0.7847 - 3s/epoch - 233ms/step\n",
            "Epoch 6/75\n",
            "11/11 - 3s - loss: 0.5624 - accuracy: 0.7876 - val_loss: 0.5158 - val_accuracy: 0.8038 - 3s/epoch - 233ms/step\n",
            "Epoch 7/75\n",
            "11/11 - 3s - loss: 0.5251 - accuracy: 0.8050 - val_loss: 0.4847 - val_accuracy: 0.8175 - 3s/epoch - 234ms/step\n",
            "Epoch 8/75\n",
            "11/11 - 3s - loss: 0.4924 - accuracy: 0.8186 - val_loss: 0.4521 - val_accuracy: 0.8335 - 3s/epoch - 235ms/step\n",
            "Epoch 9/75\n",
            "11/11 - 3s - loss: 0.4631 - accuracy: 0.8313 - val_loss: 0.4200 - val_accuracy: 0.8486 - 3s/epoch - 235ms/step\n",
            "Epoch 10/75\n",
            "11/11 - 3s - loss: 0.4380 - accuracy: 0.8407 - val_loss: 0.4046 - val_accuracy: 0.8557 - 3s/epoch - 233ms/step\n",
            "Epoch 11/75\n",
            "11/11 - 3s - loss: 0.4196 - accuracy: 0.8488 - val_loss: 0.3968 - val_accuracy: 0.8548 - 3s/epoch - 234ms/step\n",
            "Epoch 12/75\n",
            "11/11 - 3s - loss: 0.4055 - accuracy: 0.8536 - val_loss: 0.3785 - val_accuracy: 0.8610 - 3s/epoch - 236ms/step\n",
            "Epoch 13/75\n",
            "11/11 - 3s - loss: 0.3867 - accuracy: 0.8610 - val_loss: 0.3503 - val_accuracy: 0.8737 - 3s/epoch - 234ms/step\n",
            "Epoch 14/75\n",
            "11/11 - 3s - loss: 0.3815 - accuracy: 0.8602 - val_loss: 0.3570 - val_accuracy: 0.8691 - 3s/epoch - 234ms/step\n",
            "Epoch 15/75\n",
            "11/11 - 3s - loss: 0.3686 - accuracy: 0.8652 - val_loss: 0.3398 - val_accuracy: 0.8754 - 3s/epoch - 237ms/step\n",
            "Epoch 16/75\n",
            "11/11 - 3s - loss: 0.3596 - accuracy: 0.8703 - val_loss: 0.3260 - val_accuracy: 0.8820 - 3s/epoch - 237ms/step\n",
            "Epoch 17/75\n",
            "11/11 - 3s - loss: 0.3443 - accuracy: 0.8762 - val_loss: 0.3151 - val_accuracy: 0.8855 - 3s/epoch - 237ms/step\n",
            "Epoch 18/75\n",
            "11/11 - 3s - loss: 0.3387 - accuracy: 0.8779 - val_loss: 0.3142 - val_accuracy: 0.8850 - 3s/epoch - 235ms/step\n",
            "Epoch 19/75\n",
            "11/11 - 3s - loss: 0.3305 - accuracy: 0.8803 - val_loss: 0.3036 - val_accuracy: 0.8889 - 3s/epoch - 236ms/step\n",
            "Epoch 20/75\n",
            "11/11 - 3s - loss: 0.3223 - accuracy: 0.8824 - val_loss: 0.2992 - val_accuracy: 0.8921 - 3s/epoch - 239ms/step\n",
            "Epoch 21/75\n",
            "11/11 - 3s - loss: 0.3207 - accuracy: 0.8826 - val_loss: 0.2961 - val_accuracy: 0.8917 - 3s/epoch - 235ms/step\n",
            "Epoch 22/75\n",
            "11/11 - 3s - loss: 0.3137 - accuracy: 0.8856 - val_loss: 0.2907 - val_accuracy: 0.8948 - 3s/epoch - 236ms/step\n",
            "Epoch 23/75\n",
            "11/11 - 3s - loss: 0.3062 - accuracy: 0.8888 - val_loss: 0.2917 - val_accuracy: 0.8941 - 3s/epoch - 236ms/step\n",
            "Epoch 24/75\n",
            "11/11 - 3s - loss: 0.2990 - accuracy: 0.8910 - val_loss: 0.2827 - val_accuracy: 0.8976 - 3s/epoch - 236ms/step\n",
            "Epoch 25/75\n",
            "11/11 - 3s - loss: 0.2948 - accuracy: 0.8916 - val_loss: 0.2813 - val_accuracy: 0.8971 - 3s/epoch - 236ms/step\n",
            "Epoch 26/75\n",
            "11/11 - 3s - loss: 0.2936 - accuracy: 0.8923 - val_loss: 0.2723 - val_accuracy: 0.8998 - 3s/epoch - 235ms/step\n",
            "Epoch 27/75\n",
            "11/11 - 3s - loss: 0.2915 - accuracy: 0.8934 - val_loss: 0.2750 - val_accuracy: 0.8999 - 3s/epoch - 236ms/step\n",
            "Epoch 28/75\n",
            "11/11 - 3s - loss: 0.2869 - accuracy: 0.8955 - val_loss: 0.2748 - val_accuracy: 0.8999 - 3s/epoch - 236ms/step\n",
            "Epoch 29/75\n",
            "11/11 - 3s - loss: 0.2829 - accuracy: 0.8952 - val_loss: 0.2668 - val_accuracy: 0.9031 - 3s/epoch - 238ms/step\n",
            "Epoch 30/75\n",
            "11/11 - 3s - loss: 0.2805 - accuracy: 0.8959 - val_loss: 0.2717 - val_accuracy: 0.9001 - 3s/epoch - 236ms/step\n",
            "Epoch 31/75\n",
            "11/11 - 3s - loss: 0.2788 - accuracy: 0.8970 - val_loss: 0.2724 - val_accuracy: 0.9021 - 3s/epoch - 237ms/step\n",
            "Epoch 32/75\n",
            "11/11 - 3s - loss: 0.2755 - accuracy: 0.8985 - val_loss: 0.2640 - val_accuracy: 0.9048 - 3s/epoch - 238ms/step\n",
            "Epoch 33/75\n",
            "11/11 - 3s - loss: 0.2694 - accuracy: 0.9011 - val_loss: 0.2577 - val_accuracy: 0.9055 - 3s/epoch - 237ms/step\n",
            "Epoch 34/75\n",
            "11/11 - 3s - loss: 0.2600 - accuracy: 0.9046 - val_loss: 0.2533 - val_accuracy: 0.9065 - 3s/epoch - 235ms/step\n",
            "Epoch 35/75\n",
            "11/11 - 3s - loss: 0.2594 - accuracy: 0.9037 - val_loss: 0.2515 - val_accuracy: 0.9087 - 3s/epoch - 237ms/step\n",
            "Epoch 36/75\n",
            "11/11 - 3s - loss: 0.2590 - accuracy: 0.9048 - val_loss: 0.2684 - val_accuracy: 0.9016 - 3s/epoch - 238ms/step\n",
            "Epoch 37/75\n",
            "11/11 - 3s - loss: 0.2596 - accuracy: 0.9042 - val_loss: 0.2544 - val_accuracy: 0.9083 - 3s/epoch - 237ms/step\n",
            "Epoch 38/75\n",
            "11/11 - 3s - loss: 0.2526 - accuracy: 0.9073 - val_loss: 0.2465 - val_accuracy: 0.9100 - 3s/epoch - 237ms/step\n",
            "Epoch 39/75\n",
            "11/11 - 3s - loss: 0.2496 - accuracy: 0.9076 - val_loss: 0.2439 - val_accuracy: 0.9119 - 3s/epoch - 236ms/step\n",
            "Epoch 40/75\n",
            "11/11 - 3s - loss: 0.2444 - accuracy: 0.9101 - val_loss: 0.2421 - val_accuracy: 0.9118 - 3s/epoch - 237ms/step\n",
            "Epoch 41/75\n",
            "11/11 - 3s - loss: 0.2412 - accuracy: 0.9110 - val_loss: 0.2389 - val_accuracy: 0.9119 - 3s/epoch - 237ms/step\n",
            "Epoch 42/75\n",
            "11/11 - 3s - loss: 0.2422 - accuracy: 0.9108 - val_loss: 0.2375 - val_accuracy: 0.9155 - 3s/epoch - 237ms/step\n",
            "Epoch 43/75\n",
            "11/11 - 3s - loss: 0.2369 - accuracy: 0.9127 - val_loss: 0.2374 - val_accuracy: 0.9151 - 3s/epoch - 237ms/step\n",
            "Epoch 44/75\n",
            "11/11 - 3s - loss: 0.2348 - accuracy: 0.9135 - val_loss: 0.2371 - val_accuracy: 0.9134 - 3s/epoch - 238ms/step\n",
            "Epoch 45/75\n",
            "11/11 - 3s - loss: 0.2331 - accuracy: 0.9140 - val_loss: 0.2327 - val_accuracy: 0.9162 - 3s/epoch - 236ms/step\n",
            "Epoch 46/75\n",
            "11/11 - 3s - loss: 0.2298 - accuracy: 0.9141 - val_loss: 0.2300 - val_accuracy: 0.9153 - 3s/epoch - 237ms/step\n",
            "Epoch 47/75\n",
            "11/11 - 3s - loss: 0.2252 - accuracy: 0.9178 - val_loss: 0.2309 - val_accuracy: 0.9175 - 3s/epoch - 238ms/step\n",
            "Epoch 48/75\n",
            "11/11 - 3s - loss: 0.2248 - accuracy: 0.9179 - val_loss: 0.2267 - val_accuracy: 0.9197 - 3s/epoch - 240ms/step\n",
            "Epoch 49/75\n",
            "11/11 - 3s - loss: 0.2249 - accuracy: 0.9174 - val_loss: 0.2299 - val_accuracy: 0.9159 - 3s/epoch - 237ms/step\n",
            "Epoch 50/75\n",
            "11/11 - 3s - loss: 0.2204 - accuracy: 0.9185 - val_loss: 0.2267 - val_accuracy: 0.9166 - 3s/epoch - 236ms/step\n",
            "Epoch 51/75\n",
            "11/11 - 3s - loss: 0.2204 - accuracy: 0.9185 - val_loss: 0.2252 - val_accuracy: 0.9183 - 3s/epoch - 236ms/step\n",
            "Epoch 52/75\n",
            "11/11 - 3s - loss: 0.2136 - accuracy: 0.9217 - val_loss: 0.2284 - val_accuracy: 0.9157 - 3s/epoch - 236ms/step\n",
            "Epoch 53/75\n",
            "11/11 - 3s - loss: 0.2153 - accuracy: 0.9199 - val_loss: 0.2274 - val_accuracy: 0.9167 - 3s/epoch - 236ms/step\n",
            "Epoch 54/75\n",
            "11/11 - 3s - loss: 0.2171 - accuracy: 0.9191 - val_loss: 0.2288 - val_accuracy: 0.9143 - 3s/epoch - 240ms/step\n",
            "Epoch 55/75\n",
            "11/11 - 3s - loss: 0.2128 - accuracy: 0.9213 - val_loss: 0.2246 - val_accuracy: 0.9200 - 3s/epoch - 239ms/step\n",
            "Epoch 56/75\n",
            "11/11 - 3s - loss: 0.2100 - accuracy: 0.9221 - val_loss: 0.2231 - val_accuracy: 0.9179 - 3s/epoch - 237ms/step\n",
            "Epoch 57/75\n",
            "11/11 - 3s - loss: 0.2094 - accuracy: 0.9219 - val_loss: 0.2188 - val_accuracy: 0.9213 - 3s/epoch - 236ms/step\n",
            "Epoch 58/75\n",
            "11/11 - 3s - loss: 0.2028 - accuracy: 0.9251 - val_loss: 0.2207 - val_accuracy: 0.9189 - 3s/epoch - 236ms/step\n",
            "Epoch 59/75\n",
            "11/11 - 3s - loss: 0.2111 - accuracy: 0.9200 - val_loss: 0.2202 - val_accuracy: 0.9207 - 3s/epoch - 238ms/step\n",
            "Epoch 60/75\n",
            "11/11 - 3s - loss: 0.2040 - accuracy: 0.9245 - val_loss: 0.2249 - val_accuracy: 0.9176 - 3s/epoch - 236ms/step\n",
            "Epoch 61/75\n",
            "11/11 - 3s - loss: 0.2025 - accuracy: 0.9259 - val_loss: 0.2149 - val_accuracy: 0.9229 - 3s/epoch - 237ms/step\n",
            "Epoch 62/75\n",
            "11/11 - 3s - loss: 0.1962 - accuracy: 0.9273 - val_loss: 0.2135 - val_accuracy: 0.9235 - 3s/epoch - 236ms/step\n",
            "Epoch 63/75\n",
            "11/11 - 3s - loss: 0.1942 - accuracy: 0.9269 - val_loss: 0.2139 - val_accuracy: 0.9226 - 3s/epoch - 236ms/step\n",
            "Epoch 64/75\n",
            "11/11 - 3s - loss: 0.1921 - accuracy: 0.9282 - val_loss: 0.2084 - val_accuracy: 0.9247 - 3s/epoch - 235ms/step\n",
            "Epoch 65/75\n",
            "11/11 - 3s - loss: 0.1929 - accuracy: 0.9298 - val_loss: 0.2125 - val_accuracy: 0.9239 - 3s/epoch - 237ms/step\n",
            "Epoch 66/75\n",
            "11/11 - 3s - loss: 0.1891 - accuracy: 0.9296 - val_loss: 0.2109 - val_accuracy: 0.9249 - 3s/epoch - 235ms/step\n",
            "Epoch 67/75\n",
            "11/11 - 3s - loss: 0.1918 - accuracy: 0.9289 - val_loss: 0.2092 - val_accuracy: 0.9233 - 3s/epoch - 236ms/step\n",
            "Epoch 68/75\n",
            "11/11 - 3s - loss: 0.1871 - accuracy: 0.9300 - val_loss: 0.2084 - val_accuracy: 0.9265 - 3s/epoch - 236ms/step\n",
            "Epoch 69/75\n",
            "11/11 - 3s - loss: 0.1854 - accuracy: 0.9314 - val_loss: 0.2167 - val_accuracy: 0.9224 - 3s/epoch - 236ms/step\n",
            "Epoch 70/75\n",
            "11/11 - 3s - loss: 0.1844 - accuracy: 0.9323 - val_loss: 0.2051 - val_accuracy: 0.9271 - 3s/epoch - 235ms/step\n",
            "Epoch 71/75\n",
            "11/11 - 3s - loss: 0.1819 - accuracy: 0.9334 - val_loss: 0.2096 - val_accuracy: 0.9248 - 3s/epoch - 236ms/step\n",
            "Epoch 72/75\n",
            "11/11 - 3s - loss: 0.1841 - accuracy: 0.9307 - val_loss: 0.2071 - val_accuracy: 0.9255 - 3s/epoch - 238ms/step\n",
            "Epoch 73/75\n",
            "11/11 - 3s - loss: 0.1788 - accuracy: 0.9336 - val_loss: 0.2066 - val_accuracy: 0.9265 - 3s/epoch - 236ms/step\n",
            "Epoch 74/75\n",
            "11/11 - 3s - loss: 0.1761 - accuracy: 0.9350 - val_loss: 0.2044 - val_accuracy: 0.9267 - 3s/epoch - 235ms/step\n",
            "Epoch 75/75\n",
            "11/11 - 3s - loss: 0.1736 - accuracy: 0.9352 - val_loss: 0.2058 - val_accuracy: 0.9252 - 3s/epoch - 236ms/step\n"
          ]
        }
      ]
    },
    {
      "cell_type": "code",
      "source": [
        "plt.figure(figsize=(10, 10))\n",
        "\n",
        "plt.subplot(2, 2, 1)\n",
        "plt.plot(history.history['loss'], label='Loss')\n",
        "plt.plot(history.history['val_loss'], label='Validation Loss')\n",
        "plt.legend()\n",
        "plt.title('Training - Loss Function')\n",
        "\n",
        "plt.subplot(2, 2, 2)\n",
        "plt.plot(history.history['accuracy'], label='Accuracy')\n",
        "plt.plot(history.history['val_accuracy'], label='Validation Accuracy')\n",
        "plt.legend()\n",
        "plt.title('Train - Accuracy')"
      ],
      "metadata": {
        "colab": {
          "base_uri": "https://localhost:8080/",
          "height": 328
        },
        "id": "I-Y-txnlxH4h",
        "outputId": "b5685d31-0f41-49ce-db59-ac03e8787872"
      },
      "execution_count": 174,
      "outputs": [
        {
          "output_type": "execute_result",
          "data": {
            "text/plain": [
              "Text(0.5, 1.0, 'Train - Accuracy')"
            ]
          },
          "metadata": {},
          "execution_count": 174
        },
        {
          "output_type": "display_data",
          "data": {
            "text/plain": [
              "<Figure size 720x720 with 2 Axes>"
            ],
            "image/png": "[encoded data removed]"
          },
          "metadata": {
            "needs_background": "light"
          }
        }
      ]
    },
    {
      "cell_type": "code",
      "source": [
        "score = model.evaluate(X_testN, y_testC, verbose=2)\n",
        "print('Test Loss',score[0])\n",
        "print('Test Accuracy', score[1])"
      ],
      "metadata": {
        "colab": {
          "base_uri": "https://localhost:8080/"
        },
        "id": "l8czHpTr-7Fy",
        "outputId": "951e904b-f04d-4dee-ab9d-cf6bd21613db"
      },
      "execution_count": 175,
      "outputs": [
        {
          "output_type": "stream",
          "name": "stdout",
          "text": [
            "313/313 - 1s - loss: 0.2240 - accuracy: 0.9207 - 1s/epoch - 4ms/step\n",
            "Test Loss 0.22396042943000793\n",
            "Test Accuracy 0.9207000136375427\n"
          ]
        }
      ]
    }
  ]
}